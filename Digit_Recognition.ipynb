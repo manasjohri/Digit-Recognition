{
 "cells": [
  {
   "cell_type": "code",
   "execution_count": 1,
   "metadata": {},
   "outputs": [
    {
     "name": "stderr",
     "output_type": "stream",
     "text": [
      "Using TensorFlow backend.\n"
     ]
    }
   ],
   "source": [
    "import matplotlib.pyplot as plt\n",
    "import keras\n",
    "from keras.models import Sequential\n",
    "from keras.layers import Dense, Dropout, Flatten\n",
    "from keras.layers import Conv2D, MaxPooling2D\n",
    "from keras import backend as K\n",
    "import cv2"
   ]
  },
  {
   "cell_type": "code",
   "execution_count": 2,
   "metadata": {},
   "outputs": [],
   "source": [
    "from keras.datasets import mnist\n",
    "from keras.models import load_model\n",
    "import numpy as np\n",
    "import time\n",
    "from gtts import gTTS\n",
    "import os\n",
    "import win32com.client"
   ]
  },
  {
   "cell_type": "code",
   "execution_count": 3,
   "metadata": {},
   "outputs": [],
   "source": [
    "batch_size = 128\n",
    "num_classes = 10\n",
    "epochs = 15"
   ]
  },
  {
   "cell_type": "code",
   "execution_count": 4,
   "metadata": {},
   "outputs": [],
   "source": [
    "img_rows, img_cols = 28, 28"
   ]
  },
  {
   "cell_type": "code",
   "execution_count": 5,
   "metadata": {},
   "outputs": [],
   "source": [
    "(x_train, y_train), (x_test, y_test) = mnist.load_data()"
   ]
  },
  {
   "cell_type": "code",
   "execution_count": 6,
   "metadata": {},
   "outputs": [
    {
     "name": "stdout",
     "output_type": "stream",
     "text": [
      "Digit Image - 5\n"
     ]
    },
    {
     "data": {
      "image/png": "[encoded data removed]",
      "text/plain": [
       "<Figure size 432x288 with 1 Axes>"
      ]
     },
     "metadata": {
      "needs_background": "light"
     },
     "output_type": "display_data"
    }
   ],
   "source": [
    "print('Digit Image - {}'.format(y_train[0]))\n",
    "plt.imshow(x_train[0].reshape(28,28), cmap='gray')\n",
    "plt.show()"
   ]
  },
  {
   "cell_type": "code",
   "execution_count": 7,
   "metadata": {},
   "outputs": [
    {
     "data": {
      "image/png": "[encoded data removed]",
      "text/plain": [
       "<Figure size 1440x1440 with 6 Axes>"
      ]
     },
     "metadata": {},
     "output_type": "display_data"
    }
   ],
   "source": [
    "fig = plt.figure(figsize=(20,20))\n",
    "for i in range(6):\n",
    "    ax = fig.add_subplot(1, 6, i+1, xticks=[], yticks=[])\n",
    "    ax.imshow(x_train[i].reshape(28,28), cmap='gray')\n",
    "    ax.set_title(str(y_train[i]))"
   ]
  },
  {
   "cell_type": "code",
   "execution_count": 8,
   "metadata": {},
   "outputs": [
    {
     "data": {
      "text/plain": [
       "'channels_last'"
      ]
     },
     "execution_count": 8,
     "metadata": {},
     "output_type": "execute_result"
    }
   ],
   "source": [
    "K.image_data_format()"
   ]
  },
  {
   "cell_type": "code",
   "execution_count": 9,
   "metadata": {},
   "outputs": [],
   "source": [
    "if K.image_data_format() == 'channels_first':\n",
    "    x_train = x_train.reshape(x_train.shape[0], 1, img_rows, img_cols)\n",
    "    x_test = x_test.reshape(x_test.shape[0], 1, img_rows, img_cols)\n",
    "    input_shape = (1, img_rows, img_cols)\n",
    "else:\n",
    "    x_train = x_train.reshape(x_train.shape[0], img_rows, img_cols, 1)\n",
    "    x_test = x_test.reshape(x_test.shape[0], img_rows, img_cols, 1)\n",
    "    "
   ]
  },
  {
   "cell_type": "code",
   "execution_count": 10,
   "metadata": {},
   "outputs": [],
   "source": [
    "input_shape = (img_rows, img_cols, 1)"
   ]
  },
  {
   "cell_type": "code",
   "execution_count": 11,
   "metadata": {},
   "outputs": [],
   "source": [
    "x_train = x_train.astype('float32')"
   ]
  },
  {
   "cell_type": "code",
   "execution_count": 12,
   "metadata": {},
   "outputs": [
    {
     "name": "stdout",
     "output_type": "stream",
     "text": [
      "x_train shape: (60000, 28, 28, 1)\n",
      "60000 train samples\n",
      "10000 test samples\n"
     ]
    }
   ],
   "source": [
    "x1 = x_train.copy()\n",
    "x_test = x_test.astype('float32')\n",
    "x_train /= 255\n",
    "x_test /= 255\n",
    "print('x_train shape:', x_train.shape)\n",
    "print(x_train.shape[0], 'train samples')\n",
    "print(x_test.shape[0], 'test samples')"
   ]
  },
  {
   "cell_type": "code",
   "execution_count": 13,
   "metadata": {},
   "outputs": [
    {
     "data": {
      "text/plain": [
       "array([5, 0, 4, ..., 5, 6, 8], dtype=uint8)"
      ]
     },
     "execution_count": 13,
     "metadata": {},
     "output_type": "execute_result"
    }
   ],
   "source": [
    "y_train"
   ]
  },
  {
   "cell_type": "code",
   "execution_count": 14,
   "metadata": {},
   "outputs": [],
   "source": [
    "y_train = keras.utils.to_categorical(y_train, num_classes)\n",
    "y_test = keras.utils.to_categorical(y_test, num_classes)"
   ]
  },
  {
   "cell_type": "code",
   "execution_count": 15,
   "metadata": {},
   "outputs": [
    {
     "name": "stdout",
     "output_type": "stream",
     "text": [
      "WARNING:tensorflow:From E:\\Anaconda\\envs\\TensorFlow_GPU\\lib\\site-packages\\keras\\backend\\tensorflow_backend.py:74: The name tf.get_default_graph is deprecated. Please use tf.compat.v1.get_default_graph instead.\n",
      "\n",
      "WARNING:tensorflow:From E:\\Anaconda\\envs\\TensorFlow_GPU\\lib\\site-packages\\keras\\backend\\tensorflow_backend.py:517: The name tf.placeholder is deprecated. Please use tf.compat.v1.placeholder instead.\n",
      "\n",
      "WARNING:tensorflow:From E:\\Anaconda\\envs\\TensorFlow_GPU\\lib\\site-packages\\keras\\backend\\tensorflow_backend.py:4138: The name tf.random_uniform is deprecated. Please use tf.random.uniform instead.\n",
      "\n",
      "WARNING:tensorflow:From E:\\Anaconda\\envs\\TensorFlow_GPU\\lib\\site-packages\\keras\\backend\\tensorflow_backend.py:3976: The name tf.nn.max_pool is deprecated. Please use tf.nn.max_pool2d instead.\n",
      "\n",
      "WARNING:tensorflow:From E:\\Anaconda\\envs\\TensorFlow_GPU\\lib\\site-packages\\keras\\backend\\tensorflow_backend.py:133: The name tf.placeholder_with_default is deprecated. Please use tf.compat.v1.placeholder_with_default instead.\n",
      "\n",
      "WARNING:tensorflow:From E:\\Anaconda\\envs\\TensorFlow_GPU\\lib\\site-packages\\keras\\backend\\tensorflow_backend.py:3445: calling dropout (from tensorflow.python.ops.nn_ops) with keep_prob is deprecated and will be removed in a future version.\n",
      "Instructions for updating:\n",
      "Please use `rate` instead of `keep_prob`. Rate should be set to `rate = 1 - keep_prob`.\n"
     ]
    }
   ],
   "source": [
    "model = Sequential()\n",
    "model.add(Conv2D(32, kernel_size=(3, 3),\n",
    "                 activation='relu',\n",
    "                 input_shape=input_shape))\n",
    "model.add(MaxPooling2D(pool_size=(2, 2)))\n",
    "model.add(Conv2D(64, (3, 3), activation='relu'))\n",
    "model.add(MaxPooling2D(pool_size=(2, 2)))\n",
    "model.add(Dropout(0.25))\n",
    "model.add(Flatten())\n",
    "model.add(Dense(2048, activation='relu'))\n",
    "model.add(Dropout(0.5))\n",
    "model.add(Dense(num_classes, activation='softmax'))"
   ]
  },
  {
   "cell_type": "code",
   "execution_count": 16,
   "metadata": {},
   "outputs": [
    {
     "name": "stdout",
     "output_type": "stream",
     "text": [
      "WARNING:tensorflow:From E:\\Anaconda\\envs\\TensorFlow_GPU\\lib\\site-packages\\keras\\optimizers.py:790: The name tf.train.Optimizer is deprecated. Please use tf.compat.v1.train.Optimizer instead.\n",
      "\n",
      "WARNING:tensorflow:From E:\\Anaconda\\envs\\TensorFlow_GPU\\lib\\site-packages\\keras\\backend\\tensorflow_backend.py:3295: The name tf.log is deprecated. Please use tf.math.log instead.\n",
      "\n",
      "_________________________________________________________________\n",
      "Layer (type)                 Output Shape              Param #   \n",
      "=================================================================\n",
      "conv2d_1 (Conv2D)            (None, 26, 26, 32)        320       \n",
      "_________________________________________________________________\n",
      "max_pooling2d_1 (MaxPooling2 (None, 13, 13, 32)        0         \n",
      "_________________________________________________________________\n",
      "conv2d_2 (Conv2D)            (None, 11, 11, 64)        18496     \n",
      "_________________________________________________________________\n",
      "max_pooling2d_2 (MaxPooling2 (None, 5, 5, 64)          0         \n",
      "_________________________________________________________________\n",
      "dropout_1 (Dropout)          (None, 5, 5, 64)          0         \n",
      "_________________________________________________________________\n",
      "flatten_1 (Flatten)          (None, 1600)              0         \n",
      "_________________________________________________________________\n",
      "dense_1 (Dense)              (None, 2048)              3278848   \n",
      "_________________________________________________________________\n",
      "dropout_2 (Dropout)          (None, 2048)              0         \n",
      "_________________________________________________________________\n",
      "dense_2 (Dense)              (None, 10)                20490     \n",
      "=================================================================\n",
      "Total params: 3,318,154\n",
      "Trainable params: 3,318,154\n",
      "Non-trainable params: 0\n",
      "_________________________________________________________________\n"
     ]
    }
   ],
   "source": [
    "model.compile(loss=keras.losses.categorical_crossentropy,\n",
    "              optimizer=keras.optimizers.Adadelta(),\n",
    "              metrics=['accuracy'])\n",
    "model.summary()"
   ]
  },
  {
   "cell_type": "code",
   "execution_count": 17,
   "metadata": {},
   "outputs": [
    {
     "name": "stdout",
     "output_type": "stream",
     "text": [
      "WARNING:tensorflow:From E:\\Anaconda\\envs\\TensorFlow_GPU\\lib\\site-packages\\keras\\backend\\tensorflow_backend.py:2741: The name tf.Session is deprecated. Please use tf.compat.v1.Session instead.\n",
      "\n",
      "WARNING:tensorflow:From E:\\Anaconda\\envs\\TensorFlow_GPU\\lib\\site-packages\\keras\\backend\\tensorflow_backend.py:174: The name tf.get_default_session is deprecated. Please use tf.compat.v1.get_default_session instead.\n",
      "\n",
      "WARNING:tensorflow:From E:\\Anaconda\\envs\\TensorFlow_GPU\\lib\\site-packages\\keras\\backend\\tensorflow_backend.py:181: The name tf.ConfigProto is deprecated. Please use tf.compat.v1.ConfigProto instead.\n",
      "\n",
      "WARNING:tensorflow:From E:\\Anaconda\\envs\\TensorFlow_GPU\\lib\\site-packages\\keras\\backend\\tensorflow_backend.py:190: The name tf.global_variables is deprecated. Please use tf.compat.v1.global_variables instead.\n",
      "\n",
      "WARNING:tensorflow:From E:\\Anaconda\\envs\\TensorFlow_GPU\\lib\\site-packages\\keras\\backend\\tensorflow_backend.py:199: The name tf.is_variable_initialized is deprecated. Please use tf.compat.v1.is_variable_initialized instead.\n",
      "\n",
      "WARNING:tensorflow:From E:\\Anaconda\\envs\\TensorFlow_GPU\\lib\\site-packages\\keras\\backend\\tensorflow_backend.py:206: The name tf.variables_initializer is deprecated. Please use tf.compat.v1.variables_initializer instead.\n",
      "\n",
      "Test accuracy: 10.8900%\n"
     ]
    }
   ],
   "source": [
    "score = model.evaluate(x_test, y_test, verbose=0)\n",
    "accuracy = 100*score[1]\n",
    "print('Test accuracy: %.4f%%' % accuracy)"
   ]
  },
  {
   "cell_type": "code",
   "execution_count": 18,
   "metadata": {},
   "outputs": [
    {
     "name": "stdout",
     "output_type": "stream",
     "text": [
      "WARNING:tensorflow:From E:\\Anaconda\\envs\\TensorFlow_GPU\\lib\\site-packages\\tensorflow_core\\python\\ops\\math_grad.py:1424: where (from tensorflow.python.ops.array_ops) is deprecated and will be removed in a future version.\n",
      "Instructions for updating:\n",
      "Use tf.where in 2.0, which has the same broadcast rule as np.where\n",
      "WARNING:tensorflow:From E:\\Anaconda\\envs\\TensorFlow_GPU\\lib\\site-packages\\keras\\backend\\tensorflow_backend.py:986: The name tf.assign_add is deprecated. Please use tf.compat.v1.assign_add instead.\n",
      "\n",
      "WARNING:tensorflow:From E:\\Anaconda\\envs\\TensorFlow_GPU\\lib\\site-packages\\keras\\backend\\tensorflow_backend.py:973: The name tf.assign is deprecated. Please use tf.compat.v1.assign instead.\n",
      "\n",
      "Train on 60000 samples, validate on 10000 samples\n",
      "Epoch 1/15\n",
      "60000/60000 [==============================] - 10s 174us/step - loss: 0.2216 - acc: 0.9316 - val_loss: 0.0507 - val_acc: 0.9837\n",
      "Epoch 2/15\n",
      "60000/60000 [==============================] - 9s 154us/step - loss: 0.0644 - acc: 0.9799 - val_loss: 0.0351 - val_acc: 0.9875\n",
      "Epoch 3/15\n",
      "60000/60000 [==============================] - 9s 150us/step - loss: 0.0469 - acc: 0.9852 - val_loss: 0.0256 - val_acc: 0.9918\n",
      "Epoch 4/15\n",
      "60000/60000 [==============================] - 9s 152us/step - loss: 0.0376 - acc: 0.9884 - val_loss: 0.0229 - val_acc: 0.9924\n",
      "Epoch 5/15\n",
      "60000/60000 [==============================] - 9s 151us/step - loss: 0.0318 - acc: 0.9904 - val_loss: 0.0232 - val_acc: 0.9920\n",
      "Epoch 6/15\n",
      "60000/60000 [==============================] - 9s 149us/step - loss: 0.0280 - acc: 0.9907 - val_loss: 0.0246 - val_acc: 0.9917\n",
      "Epoch 7/15\n",
      "60000/60000 [==============================] - 9s 153us/step - loss: 0.0244 - acc: 0.9920 - val_loss: 0.0206 - val_acc: 0.9924\n",
      "Epoch 8/15\n",
      "60000/60000 [==============================] - 9s 154us/step - loss: 0.0218 - acc: 0.9930 - val_loss: 0.0209 - val_acc: 0.9919\n",
      "Epoch 9/15\n",
      "60000/60000 [==============================] - 9s 154us/step - loss: 0.0210 - acc: 0.9934 - val_loss: 0.0218 - val_acc: 0.9924\n",
      "Epoch 10/15\n",
      "60000/60000 [==============================] - 10s 166us/step - loss: 0.0175 - acc: 0.9944 - val_loss: 0.0230 - val_acc: 0.9923\n",
      "Epoch 11/15\n",
      "60000/60000 [==============================] - 9s 154us/step - loss: 0.0165 - acc: 0.9945 - val_loss: 0.0223 - val_acc: 0.9930\n",
      "Epoch 12/15\n",
      "60000/60000 [==============================] - 9s 158us/step - loss: 0.0146 - acc: 0.9953 - val_loss: 0.0200 - val_acc: 0.9933\n",
      "Epoch 13/15\n",
      "60000/60000 [==============================] - 9s 150us/step - loss: 0.0135 - acc: 0.9957 - val_loss: 0.0194 - val_acc: 0.9939\n",
      "Epoch 14/15\n",
      "60000/60000 [==============================] - 9s 149us/step - loss: 0.0128 - acc: 0.9956 - val_loss: 0.0223 - val_acc: 0.9930\n",
      "Epoch 15/15\n",
      "60000/60000 [==============================] - 9s 154us/step - loss: 0.0114 - acc: 0.9962 - val_loss: 0.0199 - val_acc: 0.9936\n"
     ]
    },
    {
     "data": {
      "text/plain": [
       "<keras.callbacks.History at 0x2176b457e48>"
      ]
     },
     "execution_count": 18,
     "metadata": {},
     "output_type": "execute_result"
    }
   ],
   "source": [
    "model.fit(x_train, y_train,\n",
    "          batch_size=batch_size,\n",
    "          epochs=epochs,\n",
    "          verbose=1,\n",
    "          validation_data=(x_test, y_test))"
   ]
  },
  {
   "cell_type": "code",
   "execution_count": 19,
   "metadata": {},
   "outputs": [],
   "source": [
    "model.save('Digit_CNN.h5')"
   ]
  },
  {
   "cell_type": "code",
   "execution_count": 20,
   "metadata": {},
   "outputs": [],
   "source": [
    "model.load_weights('Digit_CNN.h5')"
   ]
  },
  {
   "cell_type": "code",
   "execution_count": 21,
   "metadata": {},
   "outputs": [
    {
     "name": "stdout",
     "output_type": "stream",
     "text": [
      "Test loss: 0.021117803292397094\n",
      "Test accuracy: 0.9943\n"
     ]
    }
   ],
   "source": [
    "score = model.evaluate(x_test, y_test, verbose=0)\n",
    "print('Test loss:', score[0])\n",
    "print('Test accuracy:', score[1])"
   ]
  },
  {
   "cell_type": "code",
   "execution_count": 22,
   "metadata": {},
   "outputs": [],
   "source": [
    "camera = cv2.VideoCapture(0)\n",
    "x = 0\n",
    "y = 80\n",
    "w = 250\n",
    "n = 0\n",
    "h = 220\n",
    "while 1:\n",
    "    return_value, image = camera.read()\n",
    "    m = cv2.rectangle(image,(x,y),(x+w,y+h),color=(0,0,255),thickness=4)\n",
    "    roi = image[y:y+h, x:x+w]\n",
    "    gray = cv2.cvtColor(~roi, cv2.COLOR_BGR2GRAY)\n",
    "    ret,thresh1 = cv2.threshold(gray,127,255,cv2.THRESH_BINARY)\n",
    "    img1 = cv2.resize(thresh1, (28, 28))\n",
    "    x1 = img1.reshape(1, img_rows, img_cols, 1)\n",
    "    x1 = x1.astype('float32')\n",
    "    x1 /= 255\n",
    "    for i in range(0,1):\n",
    "        cv2.imwrite('opencv'+str(i)+'.png', roi)\n",
    "    img2 = cv2.resize(image, (1080, 780))\n",
    "    thresh2 = cv2.resize(thresh1, (800, 600))\n",
    "    predicted1 = model.predict_proba(x1)\n",
    "    predicted2 = model.predict_classes(x1)\n",
    "    m2 = predicted1.max()\n",
    "    font = cv2.FONT_HERSHEY_SIMPLEX\n",
    "    font= cv2.FONT_HERSHEY_SIMPLEX\n",
    "    bottomLeftCornerOfText = (10,540)\n",
    "    bottomLeftCornerOfText1 = (10,580)\n",
    "    bottomLeftCornerOfText2 = (50,120)\n",
    "    fontScale  = 1\n",
    "    fontColor  = (255,255,255)\n",
    "    lineType   = 2\n",
    "    cv2.putText(img2,str(\"Prediction Block\"), bottomLeftCornerOfText2, font, fontScale,fontColor,lineType)\n",
    "    if m2 >= 0.95:\n",
    "        cv2.putText(img2,str(predicted2), bottomLeftCornerOfText, font, fontScale,fontColor,lineType)\n",
    "        cv2.putText(img2,str(m2), bottomLeftCornerOfText1, font, fontScale,fontColor,lineType)\n",
    "    cv2.imshow('Digit_Detection',img2)\n",
    "    cv2.imshow('Thresh_Image',thresh1)\n",
    "    k = cv2.waitKey(30) & 0xff\n",
    "    if k == 27: \n",
    "        break\n",
    "\n",
    "camera.release() \n",
    "\n",
    "cv2.destroyAllWindows()"
   ]
  },
  {
   "cell_type": "code",
   "execution_count": null,
   "metadata": {},
   "outputs": [],
   "source": []
  },
  {
   "cell_type": "code",
   "execution_count": 24,
   "metadata": {},
   "outputs": [],
   "source": [
    "sp = []\n",
    "sp1 = []\n",
    "roi2 = []\n",
    "i = 0\n",
    "speaker = win32com.client.Dispatch(\"SAPI.SpVoice\")\n",
    "image = cv2.imread(\"6.png\")\n",
    "kernel = np.ones((5,5),np.uint8)\n",
    "gray = cv2.cvtColor(image, cv2.COLOR_BGR2GRAY)\n",
    "blurred = cv2.GaussianBlur(gray, (5, 5), 0)\n",
    "edged = cv2.Canny(blurred, 30, 150)\n",
    "ret,thresh1 = cv2.threshold(edged,127,255,cv2.THRESH_BINARY)\n",
    "dilation = cv2.dilate(thresh1,kernel,iterations = 1)\n",
    "(cnts, m) = cv2.findContours(edged.copy(), cv2.RETR_EXTERNAL, cv2.CHAIN_APPROX_SIMPLE)\n",
    "for (c) in cnts:\n",
    "    (x, y, w, h) = cv2.boundingRect(c)\n",
    "    x = x-4\n",
    "    y = y-12\n",
    "    if w >= 0 and h >= 0:\n",
    "        m1 = cv2.rectangle(image, (x, y), (x + w+10, y + h+25), (0, 0, 0), 1)\n",
    "        roi1 = dilation[y:y+h+25, x:x+w+10]\n",
    "        roi2.append(roi1)\n",
    "        img1 = cv2.resize(roi1, (28, 28))\n",
    "        x1 = img1.reshape(1, img_rows, img_cols, 1)\n",
    "        x1 = x1.astype('float32')\n",
    "        x1 /= 255\n",
    "        predicted1 = model.predict_proba(x1)\n",
    "        predicted2 = model.predict_classes(x1)\n",
    "        m2 = predicted1.max()\n",
    "        m = str(m2)\n",
    "        font = cv2.FONT_HERSHEY_SIMPLEX\n",
    "        font= cv2.FONT_HERSHEY_SIMPLEX\n",
    "        bottomLeftCornerOfText = (10,540)\n",
    "        bottomLeftCornerOfText1 = (10,580)\n",
    "        bottomLeftCornerOfText2 = (50,120)\n",
    "        fontScale  = 1\n",
    "        fontColor  = (250,0,70)\n",
    "        lineType   = 2\n",
    "        cv2.putText(image,str(predicted2[0]),(x+5, y+100),cv2.FONT_HERSHEY_SIMPLEX, 1, (0, 0, 0), 1)\n",
    "        cv2.putText(image,m[:5],(x+5, y+120),cv2.FONT_HERSHEY_SIMPLEX, 0.35, (0, 0, 0), 1)\n",
    "        sp.append(predicted2[0])\n",
    "        sp1.append(m[:5])\n",
    "        cv2.imshow('Digit_Detection',image)\n",
    "cv2.waitKey(0)\n",
    "for i in range(len(sp)):        \n",
    "    speaker.Speak(\"I am {0}% sure that the digit is {1}\".format(float(sp1[i])*100,sp[i]))\n",
    "cv2.destroyAllWindows()\n",
    "cv2.imwrite('opencv'+ str(i) +'.png', image)\n",
    "i += 1"
   ]
  },
  {
   "cell_type": "code",
   "execution_count": null,
   "metadata": {},
   "outputs": [],
   "source": []
  },
  {
   "cell_type": "code",
   "execution_count": null,
   "metadata": {},
   "outputs": [],
   "source": []
  },
  {
   "cell_type": "code",
   "execution_count": null,
   "metadata": {},
   "outputs": [],
   "source": []
  }
 ],
 "metadata": {
  "kernelspec": {
   "display_name": "Python 3",
   "language": "python",
   "name": "python3"
  },
  "language_info": {
   "codemirror_mode": {
    "name": "ipython",
    "version": 3
   },
   "file_extension": ".py",
   "mimetype": "text/x-python",
   "name": "python",
   "nbconvert_exporter": "python",
   "pygments_lexer": "ipython3",
   "version": "3.7.6"
  }
 },
 "nbformat": 4,
 "nbformat_minor": 2
}
